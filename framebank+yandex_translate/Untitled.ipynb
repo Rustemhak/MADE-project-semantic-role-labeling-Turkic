{
 "cells": [
  {
   "cell_type": "code",
   "execution_count": 2,
   "id": "a6925615-0720-41e4-9fc7-c97f61da6b64",
   "metadata": {},
   "outputs": [
    {
     "name": "stdout",
     "output_type": "stream",
     "text": [
      "Collecting NlpToolkit-FrameNet-Cy\n",
      "  Using cached NlpToolkit-FrameNet-Cy-1.0.8.tar.gz (150 kB)\n",
      "  Preparing metadata (setup.py): started\n",
      "  Preparing metadata (setup.py): finished with status 'done'\n",
      "Building wheels for collected packages: NlpToolkit-FrameNet-Cy\n",
      "  Building wheel for NlpToolkit-FrameNet-Cy (setup.py): started\n",
      "  Building wheel for NlpToolkit-FrameNet-Cy (setup.py): finished with status 'error'\n",
      "  Running setup.py clean for NlpToolkit-FrameNet-Cy\n",
      "Failed to build NlpToolkit-FrameNet-Cy\n",
      "Installing collected packages: NlpToolkit-FrameNet-Cy\n",
      "  Running setup.py install for NlpToolkit-FrameNet-Cy: started\n",
      "  Running setup.py install for NlpToolkit-FrameNet-Cy: finished with status 'error'\n"
     ]
    },
    {
     "name": "stderr",
     "output_type": "stream",
     "text": [
      "  error: subprocess-exited-with-error\n",
      "  \n",
      "  python setup.py bdist_wheel did not run successfully.\n",
      "  exit code: 1\n",
      "  \n",
      "  [22 lines of output]\n",
      "  running bdist_wheel\n",
      "  running build\n",
      "  running build_py\n",
      "  creating build\n",
      "  creating build\\lib.win-amd64-3.9\n",
      "  creating build\\lib.win-amd64-3.9\\FrameNet\n",
      "  copying FrameNet\\__init__.py -> build\\lib.win-amd64-3.9\\FrameNet\n",
      "  creating build\\lib.win-amd64-3.9\\FrameNet\\data\n",
      "  copying FrameNet\\data\\__init__.py -> build\\lib.win-amd64-3.9\\FrameNet\\data\n",
      "  copying FrameNet\\Frame.pxd -> build\\lib.win-amd64-3.9\\FrameNet\n",
      "  copying FrameNet\\FrameElement.pxd -> build\\lib.win-amd64-3.9\\FrameNet\n",
      "  copying FrameNet\\FrameNet.pxd -> build\\lib.win-amd64-3.9\\FrameNet\n",
      "  copying FrameNet\\Frame.pyx -> build\\lib.win-amd64-3.9\\FrameNet\n",
      "  copying FrameNet\\FrameElement.pyx -> build\\lib.win-amd64-3.9\\FrameNet\n",
      "  copying FrameNet\\FrameNet.pyx -> build\\lib.win-amd64-3.9\\FrameNet\n",
      "  copying FrameNet\\Frame.c -> build\\lib.win-amd64-3.9\\FrameNet\n",
      "  copying FrameNet\\FrameElement.c -> build\\lib.win-amd64-3.9\\FrameNet\n",
      "  copying FrameNet\\FrameNet.c -> build\\lib.win-amd64-3.9\\FrameNet\n",
      "  copying FrameNet\\data\\framenet.xml -> build\\lib.win-amd64-3.9\\FrameNet\\data\n",
      "  running build_ext\n",
      "  building 'FrameNet.Frame' extension\n",
      "  error: Microsoft Visual C++ 14.0 or greater is required. Get it with \"Microsoft C++ Build Tools\": https://visualstudio.microsoft.com/visual-cpp-build-tools/\n",
      "  [end of output]\n",
      "  \n",
      "  note: This error originates from a subprocess, and is likely not a problem with pip.\n",
      "  ERROR: Failed building wheel for NlpToolkit-FrameNet-Cy\n",
      "  error: subprocess-exited-with-error\n",
      "  \n",
      "  Running setup.py install for NlpToolkit-FrameNet-Cy did not run successfully.\n",
      "  exit code: 1\n",
      "  \n",
      "  [24 lines of output]\n",
      "  running install\n",
      "  C:\\Users\\rukis\\anaconda3\\lib\\site-packages\\setuptools\\command\\install.py:34: SetuptoolsDeprecationWarning: setup.py install is deprecated. Use build and pip and other standards-based tools.\n",
      "    warnings.warn(\n",
      "  running build\n",
      "  running build_py\n",
      "  creating build\n",
      "  creating build\\lib.win-amd64-3.9\n",
      "  creating build\\lib.win-amd64-3.9\\FrameNet\n",
      "  copying FrameNet\\__init__.py -> build\\lib.win-amd64-3.9\\FrameNet\n",
      "  creating build\\lib.win-amd64-3.9\\FrameNet\\data\n",
      "  copying FrameNet\\data\\__init__.py -> build\\lib.win-amd64-3.9\\FrameNet\\data\n",
      "  copying FrameNet\\Frame.pxd -> build\\lib.win-amd64-3.9\\FrameNet\n",
      "  copying FrameNet\\FrameElement.pxd -> build\\lib.win-amd64-3.9\\FrameNet\n",
      "  copying FrameNet\\FrameNet.pxd -> build\\lib.win-amd64-3.9\\FrameNet\n",
      "  copying FrameNet\\Frame.pyx -> build\\lib.win-amd64-3.9\\FrameNet\n",
      "  copying FrameNet\\FrameElement.pyx -> build\\lib.win-amd64-3.9\\FrameNet\n",
      "  copying FrameNet\\FrameNet.pyx -> build\\lib.win-amd64-3.9\\FrameNet\n",
      "  copying FrameNet\\Frame.c -> build\\lib.win-amd64-3.9\\FrameNet\n",
      "  copying FrameNet\\FrameElement.c -> build\\lib.win-amd64-3.9\\FrameNet\n",
      "  copying FrameNet\\FrameNet.c -> build\\lib.win-amd64-3.9\\FrameNet\n",
      "  copying FrameNet\\data\\framenet.xml -> build\\lib.win-amd64-3.9\\FrameNet\\data\n",
      "  running build_ext\n",
      "  building 'FrameNet.Frame' extension\n",
      "  error: Microsoft Visual C++ 14.0 or greater is required. Get it with \"Microsoft C++ Build Tools\": https://visualstudio.microsoft.com/visual-cpp-build-tools/\n",
      "  [end of output]\n",
      "  \n",
      "  note: This error originates from a subprocess, and is likely not a problem with pip.\n",
      "error: legacy-install-failure\n",
      "\n",
      "Encountered error while trying to install package.\n",
      "\n",
      "NlpToolkit-FrameNet-Cy\n",
      "\n",
      "note: This is an issue with the package mentioned above, not pip.\n",
      "hint: See above for output from the failure.\n",
      "\n",
      "[notice] A new release of pip available: 22.2.2 -> 22.3.1\n",
      "[notice] To update, run: python.exe -m pip install --upgrade pip\n"
     ]
    }
   ],
   "source": [
    "!pip3 install NlpToolkit-FrameNet-Cy"
   ]
  },
  {
   "cell_type": "code",
   "execution_count": 3,
   "id": "72dcacac-c913-4729-9dcb-6c28ffdad2b8",
   "metadata": {},
   "outputs": [
    {
     "ename": "ModuleNotFoundError",
     "evalue": "No module named 'Framenet'",
     "output_type": "error",
     "traceback": [
      "\u001b[1;31m---------------------------------------------------------------------------\u001b[0m",
      "\u001b[1;31mModuleNotFoundError\u001b[0m                       Traceback (most recent call last)",
      "Input \u001b[1;32mIn [3]\u001b[0m, in \u001b[0;36m<cell line: 1>\u001b[1;34m()\u001b[0m\n\u001b[1;32m----> 1\u001b[0m \u001b[38;5;28;01mimport\u001b[39;00m \u001b[38;5;21;01mFramenet\u001b[39;00m\n",
      "\u001b[1;31mModuleNotFoundError\u001b[0m: No module named 'Framenet'"
     ]
    }
   ],
   "source": [
    "import Framenet"
   ]
  },
  {
   "cell_type": "code",
   "execution_count": null,
   "id": "ec7e5fc1-dcec-432f-9358-75ad3e762cc4",
   "metadata": {},
   "outputs": [],
   "source": []
  }
 ],
 "metadata": {
  "kernelspec": {
   "display_name": "made-py39-venv",
   "language": "python",
   "name": "made-py39-venv"
  },
  "language_info": {
   "codemirror_mode": {
    "name": "ipython",
    "version": 3
   },
   "file_extension": ".py",
   "mimetype": "text/x-python",
   "name": "python",
   "nbconvert_exporter": "python",
   "pygments_lexer": "ipython3",
   "version": "3.9.12"
  }
 },
 "nbformat": 4,
 "nbformat_minor": 5
}
