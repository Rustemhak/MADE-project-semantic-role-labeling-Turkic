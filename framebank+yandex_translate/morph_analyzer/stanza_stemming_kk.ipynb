{
 "cells": [
  {
   "cell_type": "raw",
   "id": "39b3892c",
   "metadata": {},
   "source": [
    "!pip install stanza"
   ]
  },
  {
   "cell_type": "code",
   "execution_count": 1,
   "id": "0ff08429",
   "metadata": {},
   "outputs": [],
   "source": [
    "import stanza"
   ]
  },
  {
   "cell_type": "code",
   "execution_count": 2,
   "id": "cd2d92f1",
   "metadata": {},
   "outputs": [
    {
     "name": "stdout",
     "output_type": "stream",
     "text": [
      "Downloading Kazakh model...\n"
     ]
    },
    {
     "data": {
      "application/vnd.jupyter.widget-view+json": {
       "model_id": "c6e3b5b97cdd411888386a6f56a6ab08",
       "version_major": 2,
       "version_minor": 0
      },
      "text/plain": [
       "Downloading https://raw.githubusercontent.com/stanfordnlp/stanza-resources/main/resources_1.4.1.json:   0%|   …"
      ]
     },
     "metadata": {},
     "output_type": "display_data"
    },
    {
     "name": "stderr",
     "output_type": "stream",
     "text": [
      "2022-11-06 15:36:14 INFO: Downloading default packages for language: kk (Kazakh) ...\n"
     ]
    },
    {
     "data": {
      "application/vnd.jupyter.widget-view+json": {
       "model_id": "c722ce4a927f4e7db7a00abf37f5b4fa",
       "version_major": 2,
       "version_minor": 0
      },
      "text/plain": [
       "Downloading https://huggingface.co/stanfordnlp/stanza-kk/resolve/v1.4.1/models/default.zip:   0%|          | 0…"
      ]
     },
     "metadata": {},
     "output_type": "display_data"
    },
    {
     "name": "stderr",
     "output_type": "stream",
     "text": [
      "2022-11-06 15:37:36 INFO: Finished downloading models and saved to /home/zharas/stanza_resources.\n"
     ]
    }
   ],
   "source": [
    "print(\"Downloading Kazakh model...\")\n",
    "stanza.download('kk')"
   ]
  },
  {
   "cell_type": "code",
   "execution_count": 5,
   "id": "bf4203cf",
   "metadata": {},
   "outputs": [
    {
     "name": "stderr",
     "output_type": "stream",
     "text": [
      "2022-11-06 15:40:08 INFO: Checking for updates to resources.json in case models have been updated.  Note: this behavior can be turned off with download_method=None or download_method=DownloadMethod.REUSE_RESOURCES\n"
     ]
    },
    {
     "name": "stdout",
     "output_type": "stream",
     "text": [
      "Building a Kazakh pipeline...\n"
     ]
    },
    {
     "data": {
      "application/vnd.jupyter.widget-view+json": {
       "model_id": "5f5bcf7f056b4beeaac1026037a11731",
       "version_major": 2,
       "version_minor": 0
      },
      "text/plain": [
       "Downloading https://raw.githubusercontent.com/stanfordnlp/stanza-resources/main/resources_1.4.1.json:   0%|   …"
      ]
     },
     "metadata": {},
     "output_type": "display_data"
    },
    {
     "name": "stderr",
     "output_type": "stream",
     "text": [
      "2022-11-06 15:40:09 INFO: Loading these models for language: kk (Kazakh):\n",
      "=======================\n",
      "| Processor | Package |\n",
      "-----------------------\n",
      "| tokenize  | ktb     |\n",
      "| mwt       | ktb     |\n",
      "| pos       | ktb     |\n",
      "| lemma     | ktb     |\n",
      "| depparse  | ktb     |\n",
      "| ner       | kazNERD |\n",
      "=======================\n",
      "\n",
      "2022-11-06 15:40:09 INFO: Use device: gpu\n",
      "2022-11-06 15:40:09 INFO: Loading: tokenize\n",
      "2022-11-06 15:40:09 INFO: Loading: mwt\n",
      "2022-11-06 15:40:09 INFO: Loading: pos\n",
      "2022-11-06 15:40:09 INFO: Loading: lemma\n",
      "2022-11-06 15:40:09 INFO: Loading: depparse\n",
      "2022-11-06 15:40:09 INFO: Loading: ner\n",
      "2022-11-06 15:40:11 INFO: Done loading processors!\n"
     ]
    }
   ],
   "source": [
    "print(\"Building a Kazakh pipeline...\")\n",
    "kk_nlp = stanza.Pipeline('kk')"
   ]
  },
  {
   "cell_type": "code",
   "execution_count": 6,
   "id": "4405ebc4",
   "metadata": {},
   "outputs": [
    {
     "name": "stdout",
     "output_type": "stream",
     "text": [
      "<class 'stanza.models.common.doc.Document'>\n"
     ]
    }
   ],
   "source": [
    "kk_doc = kk_nlp(\"Біз елге бардық.Балалар үйден қашып, орманда адасып кетті.Анам жақтауды жуды. Әкем көлік жүргізді.\")\n",
    "print(type(kk_doc))"
   ]
  },
  {
   "cell_type": "code",
   "execution_count": 7,
   "id": "d597053c",
   "metadata": {},
   "outputs": [
    {
     "name": "stdout",
     "output_type": "stream",
     "text": [
      "[Sentence 1]\n",
      "Біз         \tбіз         \tPRON  \t3\tnsubj       \n",
      "елге        \tел          \tNOUN  \t3\tobl         \n",
      "бардық      \tбар         \tVERB  \t0\troot        \n",
      ".           \t.           \tPUNCT \t3\tpunct       \n",
      "\n",
      "[Sentence 2]\n",
      "Балалар     \tбала        \tNOUN  \t6\tnsubj       \n",
      "үйден       \tүй          \tNOUN  \t3\tnmod        \n",
      "қашып       \tқаш         \tVERB  \t6\tadvcl       \n",
      ",           \t,           \tPUNCT \t3\tpunct       \n",
      "орманда     \tорман       \tNOUN  \t6\tnmod        \n",
      "адасып      \tадас        \tVERB  \t0\troot        \n",
      "кетті       \tкет         \tAUX   \t6\taux         \n",
      ".           \t.           \tPUNCT \t6\tpunct       \n",
      "\n",
      "[Sentence 3]\n",
      "Анам        \tанам        \tNOUN  \t3\tnsubj       \n",
      "жақтауды    \tжақтау      \tNOUN  \t3\tobj         \n",
      "жуды        \tжу          \tVERB  \t0\troot        \n",
      ".           \t.           \tPUNCT \t3\tpunct       \n",
      "\n",
      "[Sentence 4]\n",
      "Әкем        \tәкем        \tNOUN  \t3\tnsubj       \n",
      "көлік       \tкөлік       \tNOUN  \t3\tobj         \n",
      "жүргізді    \tжүргіз      \tVERB  \t0\troot        \n",
      ".           \t.           \tPUNCT \t3\tpunct       \n",
      "\n"
     ]
    }
   ],
   "source": [
    "for i, sent in enumerate(kk_doc.sentences):\n",
    "    print(\"[Sentence {}]\".format(i+1))\n",
    "    for word in sent.words:\n",
    "        print(\"{:12s}\\t{:12s}\\t{:6s}\\t{:d}\\t{:12s}\".format(\\\n",
    "              word.text, word.lemma, word.pos, word.head, word.deprel))\n",
    "    print(\"\")"
   ]
  },
  {
   "cell_type": "code",
   "execution_count": 9,
   "id": "3d7caf6d",
   "metadata": {},
   "outputs": [
    {
     "name": "stdout",
     "output_type": "stream",
     "text": [
      "{\n",
      "  \"id\": 1,\n",
      "  \"text\": \"Біз\",\n",
      "  \"lemma\": \"біз\",\n",
      "  \"upos\": \"PRON\",\n",
      "  \"xpos\": \"prn\",\n",
      "  \"feats\": \"Case=Nom|Number=Plur|Person=1|PronType=Prs\",\n",
      "  \"head\": 3,\n",
      "  \"deprel\": \"nsubj\",\n",
      "  \"start_char\": 0,\n",
      "  \"end_char\": 3\n",
      "}\n",
      "{\n",
      "  \"id\": 2,\n",
      "  \"text\": \"елге\",\n",
      "  \"lemma\": \"ел\",\n",
      "  \"upos\": \"NOUN\",\n",
      "  \"xpos\": \"n\",\n",
      "  \"feats\": \"Case=Dat\",\n",
      "  \"head\": 3,\n",
      "  \"deprel\": \"obl\",\n",
      "  \"start_char\": 4,\n",
      "  \"end_char\": 8\n",
      "}\n",
      "{\n",
      "  \"id\": 3,\n",
      "  \"text\": \"бардық\",\n",
      "  \"lemma\": \"бар\",\n",
      "  \"upos\": \"VERB\",\n",
      "  \"xpos\": \"v\",\n",
      "  \"feats\": \"Mood=Ind|Number=Plur|Person=1|Tense=Past|VerbForm=Fin\",\n",
      "  \"head\": 0,\n",
      "  \"deprel\": \"root\",\n",
      "  \"start_char\": 9,\n",
      "  \"end_char\": 15\n",
      "}\n",
      "{\n",
      "  \"id\": 4,\n",
      "  \"text\": \".\",\n",
      "  \"lemma\": \".\",\n",
      "  \"upos\": \"PUNCT\",\n",
      "  \"xpos\": \"sent\",\n",
      "  \"head\": 3,\n",
      "  \"deprel\": \"punct\",\n",
      "  \"start_char\": 15,\n",
      "  \"end_char\": 16\n",
      "}\n"
     ]
    }
   ],
   "source": [
    "for word in kk_doc.sentences[0].words:\n",
    "    print(word)"
   ]
  },
  {
   "cell_type": "code",
   "execution_count": 12,
   "id": "f4bffa68",
   "metadata": {},
   "outputs": [
    {
     "name": "stdout",
     "output_type": "stream",
     "text": [
      "{\n",
      "  \"id\": 1,\n",
      "  \"text\": \"Балалар\",\n",
      "  \"lemma\": \"бала\",\n",
      "  \"upos\": \"NOUN\",\n",
      "  \"xpos\": \"n\",\n",
      "  \"feats\": \"Case=Nom|Number=Plur\",\n",
      "  \"head\": 6,\n",
      "  \"deprel\": \"nsubj\",\n",
      "  \"start_char\": 16,\n",
      "  \"end_char\": 23\n",
      "}\n",
      "{\n",
      "  \"id\": 2,\n",
      "  \"text\": \"үйден\",\n",
      "  \"lemma\": \"үй\",\n",
      "  \"upos\": \"NOUN\",\n",
      "  \"xpos\": \"n\",\n",
      "  \"feats\": \"Case=Abl\",\n",
      "  \"head\": 3,\n",
      "  \"deprel\": \"nmod\",\n",
      "  \"start_char\": 24,\n",
      "  \"end_char\": 29\n",
      "}\n",
      "{\n",
      "  \"id\": 3,\n",
      "  \"text\": \"қашып\",\n",
      "  \"lemma\": \"қаш\",\n",
      "  \"upos\": \"VERB\",\n",
      "  \"xpos\": \"v\",\n",
      "  \"feats\": \"Aspect=Perf|VerbForm=Conv\",\n",
      "  \"head\": 6,\n",
      "  \"deprel\": \"advcl\",\n",
      "  \"start_char\": 30,\n",
      "  \"end_char\": 35\n",
      "}\n",
      "{\n",
      "  \"id\": 4,\n",
      "  \"text\": \",\",\n",
      "  \"lemma\": \",\",\n",
      "  \"upos\": \"PUNCT\",\n",
      "  \"xpos\": \"cm\",\n",
      "  \"head\": 3,\n",
      "  \"deprel\": \"punct\",\n",
      "  \"start_char\": 35,\n",
      "  \"end_char\": 36\n",
      "}\n",
      "{\n",
      "  \"id\": 5,\n",
      "  \"text\": \"орманда\",\n",
      "  \"lemma\": \"орман\",\n",
      "  \"upos\": \"NOUN\",\n",
      "  \"xpos\": \"n\",\n",
      "  \"feats\": \"Case=Loc\",\n",
      "  \"head\": 6,\n",
      "  \"deprel\": \"nmod\",\n",
      "  \"start_char\": 37,\n",
      "  \"end_char\": 44\n",
      "}\n",
      "{\n",
      "  \"id\": 6,\n",
      "  \"text\": \"адасып\",\n",
      "  \"lemma\": \"адас\",\n",
      "  \"upos\": \"VERB\",\n",
      "  \"xpos\": \"v\",\n",
      "  \"feats\": \"Aspect=Perf|VerbForm=Inf\",\n",
      "  \"head\": 0,\n",
      "  \"deprel\": \"root\",\n",
      "  \"start_char\": 45,\n",
      "  \"end_char\": 51\n",
      "}\n",
      "{\n",
      "  \"id\": 7,\n",
      "  \"text\": \"кетті\",\n",
      "  \"lemma\": \"кет\",\n",
      "  \"upos\": \"AUX\",\n",
      "  \"xpos\": \"vaux\",\n",
      "  \"feats\": \"Mood=Ind|Number=Plur|Person=3|Tense=Past|VerbForm=Fin\",\n",
      "  \"head\": 6,\n",
      "  \"deprel\": \"aux\",\n",
      "  \"start_char\": 52,\n",
      "  \"end_char\": 57\n",
      "}\n",
      "{\n",
      "  \"id\": 8,\n",
      "  \"text\": \".\",\n",
      "  \"lemma\": \".\",\n",
      "  \"upos\": \"PUNCT\",\n",
      "  \"xpos\": \"sent\",\n",
      "  \"head\": 6,\n",
      "  \"deprel\": \"punct\",\n",
      "  \"start_char\": 57,\n",
      "  \"end_char\": 58\n",
      "}\n"
     ]
    }
   ],
   "source": [
    "for word in kk_doc.sentences[1].words:\n",
    "    print(word)"
   ]
  },
  {
   "cell_type": "raw",
   "id": "0386ec2e",
   "metadata": {},
   "source": [
    "tt_doc = kk_nlp(\"Без дачага киттек.Балалар өйдән кача һәм урманда югалып кала.Әни рамны юды. Әти машинаны йөртте..\")"
   ]
  },
  {
   "cell_type": "raw",
   "id": "ea218e4a",
   "metadata": {},
   "source": [
    "for i, sent in enumerate(tt_doc.sentences):\n",
    "    print(\"[Sentence {}]\".format(i+1))\n",
    "    for word in sent.words:\n",
    "        print(\"{:12s}\\t{:12s}\\t{:6s}\\t{:d}\\t{:12s}\".format(\\\n",
    "              word.text, word.lemma, word.pos, word.head, word.deprel))\n",
    "    print(\"\")"
   ]
  },
  {
   "cell_type": "raw",
   "id": "ac8749f2",
   "metadata": {},
   "source": [
    "from stanza.server.semgrex import Semgrex\n",
    "\n",
    "nlp = stanza.Pipeline(\"kk\", processors=\"tokenize,pos,lemma,depparse\")\n",
    "\n",
    "doc = nlp(\"Балалар үйден қашып, орманда адасып кетті.\")\n",
    "with Semgrex(classpath=\"$CLASSPATH\") as sem:\n",
    "    semgrex_results = sem.process(doc,\n",
    "                                  \"{pos:NN}=object <obl {}=action\",\n",
    "                                  \"{cpos:NOUN}=thing <obj {cpos:VERB}=action\")\n",
    "    print(\"COMPLETE RESULTS\")\n",
    "    print(semgrex_results)\n",
    "\n",
    "    print(\"Number of matches in graph 0 ('Banning opal...') for semgrex query 1 (thing <obj action): %d\" % len(semgrex_results.result[0].result[1].match))\n",
    "    for match_idx, match in enumerate(semgrex_results.result[0].result[1].match):\n",
    "        print(\"Match {}:\\n-----------\\n{}\".format(match_idx, match))\n",
    "\n",
    "    print(\"graph 1 for semgrex query 0 is an empty match: len %d\" % len(semgrex_results.result[1].result[0].match))"
   ]
  },
  {
   "cell_type": "raw",
   "id": "db13a4a3",
   "metadata": {},
   "source": [
    "from stanza.utils.visualization.conll_deprel_visualization import conll_to_visual"
   ]
  },
  {
   "cell_type": "code",
   "execution_count": null,
   "id": "6f16f9b4",
   "metadata": {},
   "outputs": [],
   "source": []
  }
 ],
 "metadata": {
  "kernelspec": {
   "display_name": "Python 3 (ipykernel)",
   "language": "python",
   "name": "python3"
  },
  "language_info": {
   "codemirror_mode": {
    "name": "ipython",
    "version": 3
   },
   "file_extension": ".py",
   "mimetype": "text/x-python",
   "name": "python",
   "nbconvert_exporter": "python",
   "pygments_lexer": "ipython3",
   "version": "3.9.13"
  }
 },
 "nbformat": 4,
 "nbformat_minor": 5
}
