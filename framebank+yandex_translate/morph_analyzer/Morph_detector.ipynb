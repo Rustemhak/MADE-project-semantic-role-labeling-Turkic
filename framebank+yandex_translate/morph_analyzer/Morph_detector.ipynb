{
 "cells": [
  {
   "cell_type": "code",
   "execution_count": 30,
   "id": "91eb867d",
   "metadata": {},
   "outputs": [],
   "source": [
    "from time import sleep\n",
    "\n",
    "from bs4 import BeautifulSoup\n",
    "from selenium import webdriver\n",
    "from selenium.webdriver.common.by import By"
   ]
  },
  {
   "cell_type": "code",
   "execution_count": 21,
   "id": "597c30ba",
   "metadata": {},
   "outputs": [],
   "source": [
    "\n",
    "language_text = {'Russian':'Мы поехали на дачу',\n",
    "                 'Tatar':'Без дачага киттек', \n",
    "                 'Kazakh':'Біз елге бардық', \n",
    "                 'Kyrgyz':'Биз өлкөгө жөнөдүк', \n",
    "                 'Bashqort':'Беҙ дачаға барҙыҡ',\n",
    "                 'Uzbek':'Biz mamlakatga bordik'}"
   ]
  },
  {
   "cell_type": "code",
   "execution_count": 22,
   "id": "fe65afea",
   "metadata": {},
   "outputs": [],
   "source": [
    "languages = ['tat', 'kaz', 'kir', 'bak', 'uzb'] # языки татарский, казахский, киргизский"
   ]
  },
  {
   "cell_type": "code",
   "execution_count": 123,
   "id": "d32b1afc",
   "metadata": {},
   "outputs": [],
   "source": [
    "def get_morph(text, language):\n",
    "    lang_field = browser.find_element(By.XPATH, '/html/body/div/div[1]/div[1]/form/div[1]/div/select')\n",
    "    lang_field.send_keys(language)\n",
    "    \n",
    "    text_field = browser.find_element(By.XPATH, '/html/body/div/div[1]/div[1]/form/div[2]/div/textarea').clear()\n",
    "    text_field = browser.find_element(By.XPATH, '/html/body/div/div[1]/div[1]/form/div[2]/div/textarea')\n",
    "    text_field.send_keys(text)\n",
    "    \n",
    "    button = browser.find_element(By.XPATH, '/html/body/div/div[1]/div[1]/form/div[3]/div/button')\n",
    "    button.click()\n",
    "    sleep(1)\n",
    "    \n",
    "    html = browser.page_source\n",
    "    soup = BeautifulSoup(html, 'lxml')\n",
    "    translation = soup.find_all('td',class_=\"text-left\")\n",
    "    morph = [word.text.split()[0] for word in translation]\n",
    "    return morph"
   ]
  },
  {
   "cell_type": "code",
   "execution_count": 70,
   "id": "47839b7d",
   "metadata": {},
   "outputs": [
    {
     "name": "stdout",
     "output_type": "stream",
     "text": [
      "CPU times: user 10.6 ms, sys: 37.7 ms, total: 48.3 ms\n",
      "Wall time: 10.4 s\n"
     ]
    }
   ],
   "source": [
    "%%time\n",
    "\n",
    "language = languages[0]\n",
    "url = 'https://beta.apertium.org/index.eng.html#analysis?aLang=' + language + '&aQ='    \n",
    "browser = webdriver.Chrome()\n",
    "browser.get(url)"
   ]
  },
  {
   "cell_type": "code",
   "execution_count": 68,
   "id": "0896cf89",
   "metadata": {},
   "outputs": [
    {
     "name": "stdout",
     "output_type": "stream",
     "text": [
      "Russian\n",
      "Мы поехали на дачу\n",
      "['дача']\n",
      "Tatar\n",
      "Без дачага киттек\n",
      "['кит']\n",
      "Kazakh\n",
      "Біз елге бардық\n",
      "['бар']\n",
      "Kyrgyz\n",
      "Биз өлкөгө жөнөдүк\n",
      "['жөнө']\n",
      "Bashqort\n",
      "Беҙ дачаға барҙыҡ\n",
      "['бар']\n",
      "Uzbek\n",
      "Biz mamlakatga bordik\n",
      "['bor']\n",
      "CPU times: user 116 ms, sys: 9.99 ms, total: 126 ms\n",
      "Wall time: 17.1 s\n"
     ]
    }
   ],
   "source": [
    "%%time\n",
    "for language, text in language_text.items():\n",
    "    print(language)\n",
    "    print(text)\n",
    "    print(get_morph(text, language))"
   ]
  },
  {
   "cell_type": "code",
   "execution_count": 204,
   "id": "b179dbac",
   "metadata": {},
   "outputs": [],
   "source": [
    "def get_morph(text, language):\n",
    "    lang_field = browser.find_element(By.XPATH, '/html/body/div/div[1]/div[1]/form/div[1]/div/select')\n",
    "    lang_field.send_keys(language)\n",
    "    \n",
    "    text_field = browser.find_element(By.XPATH, '/html/body/div/div[1]/div[1]/form/div[2]/div/textarea').clear()\n",
    "    text_field = browser.find_element(By.XPATH, '/html/body/div/div[1]/div[1]/form/div[2]/div/textarea')\n",
    "    \n",
    "    text = drop_punc(text)\n",
    "    text_field.send_keys(text)\n",
    "    \n",
    "    button = browser.find_element(By.XPATH, '/html/body/div/div[1]/div[1]/form/div[3]/div/button')\n",
    "    button.click()\n",
    "    sleep(1)\n",
    "    \n",
    "    html = browser.page_source\n",
    "    soup = BeautifulSoup(html, 'lxml')\n",
    "    translation = soup.find_all('td',class_=\"text-left\")\n",
    "    words = []\n",
    "    for word in translation:\n",
    "        word = word.text.split()\n",
    "        for i, w in enumerate(word):\n",
    "            if w == '↤':\n",
    "                break\n",
    "        word = word[:i]\n",
    "        for w in word:\n",
    "            words.append(w)\n",
    "    return words\n",
    "\n",
    "def drop_punc(word):\n",
    "    punc = '''!()-[]{};:\"\\,<>./?@#$%^&*_~'''\n",
    "    for p in punc:\n",
    "        word = word.replace(p,'')\n",
    "    return word\n",
    "\n",
    "def get_tags(words, srl_verb):\n",
    "    new_tags = []\n",
    "    for word in words:\n",
    "        for srl in srl_verb.keys(): \n",
    "            if drop_punc(word) in srl_verb[srl]:\n",
    "                role = srl\n",
    "                break\n",
    "            else:\n",
    "                role = 'O'\n",
    "        new_tags.append(role)\n",
    "    return new_tags\n",
    "\n",
    "def get_new_roles(tat_sentence, morph_sentence, roles, words):\n",
    "    result = {'verbs': []}\n",
    "    metric = []\n",
    "    for verb in roles:\n",
    "        new_roles = {}\n",
    "        srl_verb = {'verb':''}\n",
    "        for srl in verb.keys():\n",
    "#             morph = get_morph(verb[srl], language)[0]\n",
    "            morph = verb[srl]\n",
    "    #         Ищем слово в предложении по морфеме\n",
    "            for i in range(len(morph), 0, -1):\n",
    "                if morph[:i] in morph_sentence:\n",
    "                    idx = morph_sentence.index(morph[:i])\n",
    "                    new_roles[srl] = words[idx]\n",
    "                    if srl == 'V':\n",
    "                        srl_verb['verb'] = words[idx]\n",
    "                    break\n",
    "\n",
    "         \n",
    "    #     Считаем сколько слов правильно перевели\n",
    "\n",
    "        srl_verb['description'] = new_roles\n",
    "        \n",
    "        srl_verb['tags'] = get_tags(words, new_roles)\n",
    "\n",
    "        metric.append(len(new_roles.keys()) / len(verb.keys()))\n",
    "        result['verbs'].append(srl_verb)\n",
    "\n",
    "    result['words'] = words\n",
    "    result['metric'] = round(np.mean(metric),2)\n",
    "    return result\n",
    "\n",
    "def predict(tat_sentence, morph_sentence, roles, words, tries = 5):\n",
    "    pred = None\n",
    "    for i in range(tries):\n",
    "        try:\n",
    "            pred = get_new_roles(tat_sentence, morph_sentence, roles, words)\n",
    "            break\n",
    "        except:\n",
    "            continue\n",
    "    return pred"
   ]
  },
  {
   "cell_type": "code",
   "execution_count": 206,
   "id": "0bc53dc3",
   "metadata": {},
   "outputs": [
    {
     "name": "stdout",
     "output_type": "stream",
     "text": [
      "{'verbs': [{'verb': 'кача', 'description': {'V': 'кача', 'Arg(субъект перемещения)': 'Балалар'}, 'tags': ['Arg(субъект перемещения)', 'O', 'V', 'O', 'O', 'O', 'O']}, {'verb': 'югалып', 'description': {'V': 'югалып', 'Arg(место)': 'урманда'}, 'tags': ['O', 'O', 'O', 'O', 'Arg(место)', 'V', 'O']}], 'words': ['Балалар', 'өйдән', 'кача', 'һәм', 'урманда', 'югалып', 'кала.'], 'metric': 0.83}\n"
     ]
    }
   ],
   "source": [
    "language = 'tat'\n",
    "tat_sentence = 'Балалар өйдән кача һәм урманда югалып кала.'\n",
    "roles = [{'V': 'качу', 'Arg(субъект перемещения)': 'балалар', 'Arg(начальная точка)': 'йорт'}, {'V': 'югалту', 'Arg(место)': 'урман'}]\n",
    "\n",
    "\n",
    "morph_sentence = [get_morph(word, language)[0] for word in words]\n",
    "words = tat_sentence.split()\n",
    "\n",
    "print(predict(tat_sentence, morph_sentence, roles, words, tries = 5))"
   ]
  },
  {
   "cell_type": "code",
   "execution_count": 207,
   "id": "264cd5ac",
   "metadata": {},
   "outputs": [
    {
     "name": "stdout",
     "output_type": "stream",
     "text": [
      "{'verbs': [{'verb': '', 'description': {'Arg(субъект перемещения)': 'Без', 'Arg(начальная точка)': 'дачага'}, 'tags': ['Arg(субъект перемещения)', 'Arg(начальная точка)', 'O']}], 'words': ['Без', 'дачага', 'киттек'], 'metric': 0.67}\n"
     ]
    }
   ],
   "source": [
    "language = 'tat'\n",
    "tat_sentence = 'Без дачага киттек'\n",
    "roles = [{'V': 'бару', 'Arg(субъект перемещения)': 'без', 'Arg(начальная точка)': 'дача'}]\n",
    "\n",
    "words = tat_sentence.split()\n",
    "morph_sentence = [get_morph(word, language)[0] for word in words]\n",
    "\n",
    "print(predict(tat_sentence, morph_sentence, roles, words, tries = 5))"
   ]
  },
  {
   "cell_type": "code",
   "execution_count": 208,
   "id": "539a9994",
   "metadata": {},
   "outputs": [
    {
     "name": "stdout",
     "output_type": "stream",
     "text": [
      "{'verbs': [{'verb': 'юды.', 'description': {'V': 'юды.', 'Arg(агенс)': 'Әни'}, 'tags': ['Arg(агенс)', 'O', 'V', 'O', 'O', 'O']}, {'verb': 'йөртте.', 'description': {'V': 'йөртте.', 'Arg(агенс)': 'Әти'}, 'tags': ['O', 'O', 'O', 'Arg(агенс)', 'O', 'V']}], 'words': ['Әни', 'рамны', 'юды.', 'Әти', 'машинаны', 'йөртте.'], 'metric': 0.83}\n"
     ]
    }
   ],
   "source": [
    "language = 'tat'\n",
    "tat_sentence = 'Әни рамны юды. Әти машинаны йөртте.'\n",
    "roles = [{'V': 'юу', 'Arg(агенс)': 'әни', 'Arg(пациенс)': 'кыса'},\n",
    "        {'V': 'йөртү', 'Arg(агенс)': 'әти'}]\n",
    "\n",
    "words = tat_sentence.split()\n",
    "morph_sentence = [get_morph(word, language)[0] for word in words]\n",
    "\n",
    "print(predict(tat_sentence, morph_sentence, roles, words, tries = 5))"
   ]
  },
  {
   "cell_type": "code",
   "execution_count": null,
   "id": "0057cc35",
   "metadata": {},
   "outputs": [],
   "source": []
  }
 ],
 "metadata": {
  "kernelspec": {
   "display_name": "Python 3 (ipykernel)",
   "language": "python",
   "name": "python3"
  },
  "language_info": {
   "codemirror_mode": {
    "name": "ipython",
    "version": 3
   },
   "file_extension": ".py",
   "mimetype": "text/x-python",
   "name": "python",
   "nbconvert_exporter": "python",
   "pygments_lexer": "ipython3",
   "version": "3.8.13"
  }
 },
 "nbformat": 4,
 "nbformat_minor": 5
}
