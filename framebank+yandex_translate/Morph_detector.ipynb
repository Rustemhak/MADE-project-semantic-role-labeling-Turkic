{
 "cells": [
  {
   "cell_type": "code",
   "execution_count": 255,
   "id": "91eb867d",
   "metadata": {},
   "outputs": [],
   "source": [
    "from time import sleep\n",
    "\n",
    "from bs4 import BeautifulSoup\n",
    "from selenium import webdriver\n"
   ]
  },
  {
   "cell_type": "code",
   "execution_count": 261,
   "id": "597c30ba",
   "metadata": {},
   "outputs": [],
   "source": [
    "\n",
    "language_text = {'Russian':'Мы поехали на дачу',\n",
    "                 'Tatar':'Без дачага киттек', \n",
    "                 'Kazakh':'Біз елге бардық', \n",
    "                 'Kyrgyz':'Биз өлкөгө жөнөдүк', \n",
    "                 'Bashqort':'Беҙ дачаға барҙыҡ',\n",
    "                 'Uzbek':'Biz mamlakatga bordik'}"
   ]
  },
  {
   "cell_type": "code",
   "execution_count": 257,
   "id": "fe65afea",
   "metadata": {},
   "outputs": [],
   "source": [
    "languages = ['tat', 'kaz', 'kir', 'bak', 'uzb'] # языки татарский, казахский, киргизский"
   ]
  },
  {
   "cell_type": "code",
   "execution_count": 258,
   "id": "d32b1afc",
   "metadata": {},
   "outputs": [],
   "source": [
    "def get_morph(text, language):\n",
    "    lang_field = browser.find_element(By.XPATH, '/html/body/div/div[1]/div[1]/form/div[1]/div/select')\n",
    "    lang_field.send_keys(language)\n",
    "    \n",
    "    text_field = browser.find_element(By.XPATH, '/html/body/div/div[1]/div[1]/form/div[2]/div/textarea').clear()\n",
    "    text_field = browser.find_element(By.XPATH, '/html/body/div/div[1]/div[1]/form/div[2]/div/textarea')\n",
    "    text_field.send_keys(text)\n",
    "    \n",
    "    button = browser.find_element(By.XPATH, '/html/body/div/div[1]/div[1]/form/div[3]/div/button')\n",
    "    button.click()\n",
    "    sleep(1)\n",
    "    \n",
    "    html = browser.page_source\n",
    "    soup = BeautifulSoup(html, 'lxml')\n",
    "    translation = soup.find_all('td',class_=\"text-left\")\n",
    "    morph = [word.text.split()[0] for word in translation]\n",
    "    return morph"
   ]
  },
  {
   "cell_type": "code",
   "execution_count": 259,
   "id": "47839b7d",
   "metadata": {},
   "outputs": [
    {
     "name": "stdout",
     "output_type": "stream",
     "text": [
      "CPU times: user 8.95 ms, sys: 34.2 ms, total: 43.2 ms\n",
      "Wall time: 12.8 s\n"
     ]
    }
   ],
   "source": [
    "%%time\n",
    "language = languages[0]\n",
    "url = 'https://beta.apertium.org/index.eng.html#analysis?aLang=' + language + '&aQ='    \n",
    "browser = webdriver.Chrome()\n",
    "browser.get(url)"
   ]
  },
  {
   "cell_type": "code",
   "execution_count": 262,
   "id": "0896cf89",
   "metadata": {},
   "outputs": [
    {
     "name": "stdout",
     "output_type": "stream",
     "text": [
      "Russian\n",
      "Мы поехали на дачу\n",
      "['мы', 'поехать', 'на', 'дача']\n",
      "Tatar\n",
      "Без дачага киттек\n",
      "['без', 'дача', 'кит']\n",
      "Kazakh\n",
      "Біз елге бардық\n",
      "['біз', 'ел', 'бар']\n",
      "Kyrgyz\n",
      "Биз өлкөгө жөнөдүк\n",
      "['биз', 'өлкө', 'жөнө']\n",
      "Bashqort\n",
      "Беҙ дачаға барҙыҡ\n",
      "['беҙ', 'дача', 'бар']\n",
      "Uzbek\n",
      "Biz mamlakatga bordik\n",
      "['biz', 'mamlakat', 'bor']\n",
      "CPU times: user 127 ms, sys: 9.54 ms, total: 136 ms\n",
      "Wall time: 9.06 s\n"
     ]
    }
   ],
   "source": [
    "%%time\n",
    "for language, text in language_text.items():\n",
    "    print(language)\n",
    "    print(text)\n",
    "    print(get_morph(text, language))"
   ]
  },
  {
   "cell_type": "code",
   "execution_count": null,
   "id": "2d9f4804",
   "metadata": {},
   "outputs": [],
   "source": []
  }
 ],
 "metadata": {
  "kernelspec": {
   "display_name": "Python 3 (ipykernel)",
   "language": "python",
   "name": "python3"
  },
  "language_info": {
   "codemirror_mode": {
    "name": "ipython",
    "version": 3
   },
   "file_extension": ".py",
   "mimetype": "text/x-python",
   "name": "python",
   "nbconvert_exporter": "python",
   "pygments_lexer": "ipython3",
   "version": "3.8.13"
  }
 },
 "nbformat": 4,
 "nbformat_minor": 5
}
