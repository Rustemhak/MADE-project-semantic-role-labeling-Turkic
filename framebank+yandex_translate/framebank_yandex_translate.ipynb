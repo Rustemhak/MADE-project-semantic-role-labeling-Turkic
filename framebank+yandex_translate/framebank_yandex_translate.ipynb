{
 "cells": [
  {
   "cell_type": "code",
   "execution_count": 1,
   "id": "53752a4f-6d99-4760-a8db-26ff41e66928",
   "metadata": {},
   "outputs": [],
   "source": [
    "import sys\n",
    "sys.path.append(\"../\")"
   ]
  },
  {
   "cell_type": "code",
   "execution_count": 2,
   "id": "14e0ede6-e860-4564-8992-afcda163853a",
   "metadata": {},
   "outputs": [],
   "source": [
    "%load_ext autoreload\n",
    "%autoreload 2"
   ]
  },
  {
   "cell_type": "code",
   "execution_count": 3,
   "id": "bf7af7ec-65a5-4b5e-9f0b-2bc7804136c1",
   "metadata": {},
   "outputs": [],
   "source": [
    "import requests\n",
    "import json\n",
    "\n",
    "from pprint import pprint as print_\n",
    "from collections import OrderedDict\n",
    "import numpy as np\n",
    "from tqdm import tqdm_notebook as tqdm\n",
    "\n",
    "from isanlp_srl_framebank.pipeline_default import PipelineDefault"
   ]
  },
  {
   "cell_type": "code",
   "execution_count": 4,
   "id": "bc4d435d-dd7e-4551-bdeb-9d3922761eed",
   "metadata": {},
   "outputs": [],
   "source": [
    "IAM_TOKEN = 't1.9euelZqPzpeZkI-WmM6RjIucmcmTyO3rnpWaj46Nkc6ejZaLyZvOmZqWj53l9PdNfXVk-e8KGD_O3fT3DSxzZPnvChg_zg.x-M9U8Er7_xZaZ5_Wyt3Aa5wpmi4K7Ln1pNnL_ZOaTM9dBJHc0ejbeXwJ3L0Rjwqlly5jeOfRiqmIKMwU7EZDg'\n",
    "folder_id = 'b1gs2kplab3ve997i80t'"
   ]
  },
  {
   "cell_type": "code",
   "execution_count": null,
   "id": "0645e314-9eb8-48f3-aea0-e39668c6c9e8",
   "metadata": {},
   "outputs": [],
   "source": [
    "# docker run --rm -p 3333:3333 inemo/isanlp\n",
    "# docker run --rm --shm-size=1024m -ti -p 3334:9999 inemo/syntaxnet_rus server 0.0.0.0 9999\n",
    "# docker run --rm -p 3335:3333 inemo/isanlp_srl_framebank"
   ]
  },
  {
   "cell_type": "code",
   "execution_count": 5,
   "id": "3af8b794-0489-4f24-b9a8-3cb170efc232",
   "metadata": {},
   "outputs": [],
   "source": [
    "ppl = PipelineDefault(address_morph=('localhost', 3333),\n",
    "                      address_syntax=('localhost', 3334),\n",
    "                      address_srl=('localhost', 3335))"
   ]
  },
  {
   "cell_type": "code",
   "execution_count": 6,
   "id": "082ad129-9fad-4c11-9cdc-a950386ce682",
   "metadata": {},
   "outputs": [],
   "source": [
    "def print_roles(lemma, role_annot, translate=False):\n",
    "    for sent_num, ann_sent in enumerate(role_annot):\n",
    "        for event in ann_sent:\n",
    "            if translate:\n",
    "                print('=====Pred: {}'.format(*get_translations(lemma[sent_num][event.pred[0]],'tt')))\n",
    "            else:\n",
    "                print('=====Pred: {}'.format(lemma[sent_num][event.pred[0]]))\n",
    "            for arg in event.args:\n",
    "                if translate:\n",
    "                    print('Arg({}): {}'.format(arg.tag, *get_translations(lemma[sent_num][arg.begin], 'tt')))\n",
    "                else:\n",
    "                    print('Arg({}): {}'.format(arg.tag, lemma[sent_num][arg.begin]))"
   ]
  },
  {
   "cell_type": "code",
   "execution_count": 7,
   "id": "19dfd757-ba2e-48f7-84df-41f47228bb2a",
   "metadata": {},
   "outputs": [],
   "source": [
    "def get_translations(texts, target_language='ru' ):\n",
    "\n",
    "    body = {\n",
    "        \"targetLanguageCode\": target_language,\n",
    "        \"texts\": texts,\n",
    "        \"folderId\": folder_id,\n",
    "    }\n",
    "\n",
    "    headers = {\n",
    "        \"Content-Type\": \"application/json\",\n",
    "        \"Authorization\": \"Bearer {0}\".format(IAM_TOKEN)\n",
    "    }\n",
    "\n",
    "    response = requests.post('https://translate.api.cloud.yandex.net/translate/v2/translate',\n",
    "        json = body,\n",
    "        headers = headers\n",
    "    )\n",
    "    d = json.loads(response.text)\n",
    "    translations = d['translations']\n",
    "    return [t['text'] for t in translations]\n",
    "    \n",
    "# print(response.text)"
   ]
  },
  {
   "cell_type": "code",
   "execution_count": 9,
   "id": "1bd254d7-f1c1-4f60-a1fe-aa124a26f285",
   "metadata": {},
   "outputs": [
    {
     "name": "stdout",
     "output_type": "stream",
     "text": [
      "___исходный текст на татарском____\n",
      "Без дачага киттек.\n",
      "___переведенный текст на русский____\n",
      "Мы поехали на дачу.\n",
      "______На русском_____\n",
      "=====Pred: поехать\n",
      "Arg(субъект перемещения): мы\n",
      "Arg(конечная точка): дача\n",
      "______На татарском____\n",
      "=====Pred: бару\n",
      "Arg(субъект перемещения): без\n",
      "Arg(конечная точка): дача\n",
      "___исходный текст на татарском____\n",
      "Балалар өйдән кача һәм урманда югалып кала.\n",
      "___переведенный текст на русский____\n",
      "Дети убегают из дома и теряются в лесу.\n",
      "______На русском_____\n",
      "=====Pred: убегать\n",
      "Arg(субъект перемещения): ребенок\n",
      "Arg(начальная точка): дом\n",
      "=====Pred: теряться\n",
      "Arg(место): лес\n",
      "______На татарском____\n",
      "=====Pred: качу\n",
      "Arg(субъект перемещения): балалар\n",
      "Arg(начальная точка): йорт\n",
      "=====Pred: югалту\n",
      "Arg(место): урман\n",
      "___исходный текст на татарском____\n",
      "Әни рамны юды. Әти машинаны йөртте.\n",
      "___переведенный текст на русский____\n",
      "Мама вымыла раму. Отец водил машину.\n",
      "______На русском_____\n",
      "=====Pred: вымывать\n",
      "Arg(агенс): мама\n",
      "Arg(пациенс): рама\n",
      "=====Pred: водить\n",
      "Arg(агенс): отец\n",
      "______На татарском____\n",
      "=====Pred: юу\n",
      "Arg(агенс): әни\n",
      "Arg(пациенс): кыса\n",
      "=====Pred: йөртү\n",
      "Arg(агенс): әти\n"
     ]
    }
   ],
   "source": [
    "texts = [\"Без дачага киттек.\", \"Балалар өйдән кача һәм урманда югалып кала.\",\"Әни рамны юды. Әти машинаны йөртте.\"]\n",
    "translations = get_translations(texts)\n",
    "# print(translations)\n",
    "for i, translation in enumerate(translations):\n",
    "    print('___исходный текст на татарском____')\n",
    "    print(texts[i])\n",
    "    rus_text = translation\n",
    "    print('___переведенный текст на русский____')\n",
    "    print(rus_text)\n",
    "    res = ppl(rus_text)\n",
    "    print('______На русском_____')\n",
    "    print_roles(res['lemma'], res['srl'])\n",
    "    print('______На татарском____')\n",
    "    print_roles(res['lemma'], res['srl'], True)\n",
    "\n",
    "\n",
    "    "
   ]
  },
  {
   "cell_type": "code",
   "execution_count": null,
   "id": "2d41309a-5c2f-4697-86bb-013dd93557d9",
   "metadata": {},
   "outputs": [],
   "source": []
  }
 ],
 "metadata": {
  "kernelspec": {
   "display_name": "Python 3 (ipykernel)",
   "language": "python",
   "name": "python3"
  },
  "language_info": {
   "codemirror_mode": {
    "name": "ipython",
    "version": 3
   },
   "file_extension": ".py",
   "mimetype": "text/x-python",
   "name": "python",
   "nbconvert_exporter": "python",
   "pygments_lexer": "ipython3",
   "version": "3.9.12"
  }
 },
 "nbformat": 4,
 "nbformat_minor": 5
}
