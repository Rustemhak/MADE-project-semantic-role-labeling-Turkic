{
 "cells": [
  {
   "cell_type": "code",
   "execution_count": 59,
   "id": "681a105c",
   "metadata": {},
   "outputs": [],
   "source": [
    "\n",
    "import numpy as np\n",
    "import pandas as pd\n",
    "import ast\n",
    "import string \n",
    "import matplotlib.pyplot as plt\n"
   ]
  },
  {
   "cell_type": "code",
   "execution_count": 3,
   "id": "e22991ea",
   "metadata": {},
   "outputs": [],
   "source": [
    "res_2_models_ba = pd.read_csv('data_SRL/res_2_models_ba.csv')\n",
    "res_2_models_kk1 = pd.read_csv('data_SRL/res_2_models_kk1.csv')\n",
    "res_2_models_kk2 = pd.read_csv('data_SRL/res_2_models_kk2.csv')\n",
    "res_2_models_tt = pd.read_csv('data_SRL/res_2_models_tt.csv')\n",
    "\n"
   ]
  },
  {
   "cell_type": "code",
   "execution_count": 12,
   "id": "5ccd651f",
   "metadata": {},
   "outputs": [],
   "source": [
    "res_2_models_kk1.columns = ['0','FrameNet', 'BertSRL','preds', 'sentence','sent_len']\n",
    "res_2_models_kk2.columns = ['0','FrameNet', 'BertSRL','preds', 'sentence','sent_len']\n",
    "res_2_models_tt.columns = ['0','FrameNet', 'BertSRL','preds', 'sentence','sent_len']\n",
    "res_2_models_ba.columns = ['0','FrameNet', 'BertSRL','preds', 'sentence','sent_len']"
   ]
  },
  {
   "cell_type": "code",
   "execution_count": 83,
   "id": "8c612c4f",
   "metadata": {},
   "outputs": [],
   "source": [
    "def get_args(verbs):  \n",
    "    srl = []\n",
    "    predicats = []\n",
    "    for roles in verbs:\n",
    "        verb = roles['verb']\n",
    "        args = list(roles['description'].values())\n",
    "#         if verb in args:\n",
    "#             args.remove(verb)\n",
    "        srl.append(args)\n",
    "        predicats.append(verb)\n",
    "    return srl, predicats\n",
    "\n",
    "def drop_punkt(word):\n",
    "    word=str(word)\n",
    "    punc = string.punctuation\n",
    "    for p in punc:\n",
    "        word = word.replace(p,'')\n",
    "    return word\n",
    "\n",
    "def count_verbs(data): # Подсчет с наличием хотябы одного предиката из FrameNet\n",
    "    data_FrameNet, data_BertSRL = data.loc[:,'FrameNet'],data.loc[:,'BertSRL']\n",
    "    predicats = [0 for _ in range(data_FrameNet.shape[0])]\n",
    "#     arguments = [0 for _ in range(data_kk_1.shape[0])]\n",
    "\n",
    "    for i in range(data_FrameNet.shape[0]):\n",
    "        try:\n",
    "            verbs_1 = ast.literal_eval(data_FrameNet.loc[i])['verbs']\n",
    "            a_1, v_1 = get_args(verbs_1)\n",
    "#             print('FrameNet',a_1, v_1)\n",
    "            \n",
    "            verbs_2 = ast.literal_eval(data_BertSRL.loc[i])['verbs']\n",
    "            a_2, v_2 = get_args(verbs_2)\n",
    "#             print('BERT',a_2, v_2) \n",
    "#             print(ast.literal_eval(data_kk_1.loc[i])['words'])\n",
    "#             print()\n",
    "            # Смотрим соответствие глаголов\n",
    "            for verb1 in v_1:\n",
    "#                 print()\n",
    "#                 print('Frame', verb1)\n",
    "                for verb2 in v_2:\n",
    "#                     print('bert', verb2)\n",
    "                    if drop_punkt(verb1) in verb2:\n",
    "                        predicats[i] = 1\n",
    "#                         print(True)\n",
    "                        break\n",
    "                    else:\n",
    "                        continue    \n",
    "\n",
    "        except:\n",
    "            continue\n",
    "        data['preds'] = predicats\n",
    "    return data\n",
    "\n",
    "\n",
    "def calc_score(result_srl_kk,x):\n",
    "\n",
    "    res_kk[res_kk.preds_kk == 1].sent_len.hist()\n",
    "    \n",
    "    score = res_kk[res_kk.sent_len <= x].preds_kk.mean()\n",
    "#     print('score: ', score)\n",
    "    res = res_kk[res_kk.sent_len <= x]\n",
    "    return res, score"
   ]
  },
  {
   "cell_type": "code",
   "execution_count": 86,
   "id": "69da60df",
   "metadata": {},
   "outputs": [
    {
     "name": "stdout",
     "output_type": "stream",
     "text": [
      "kk1: 0.5422993492407809\n",
      "kk2: 0.5183098591549296\n",
      "tt: 0.41569767441860467\n",
      "ba: 0.2847222222222222\n"
     ]
    }
   ],
   "source": [
    "# attention threshold = 0.1e-00\n",
    "\n",
    "preds_kk1 = count_verbs(res_2_models_kk1)\n",
    "preds_kk2 = count_verbs(res_2_models_kk2)\n",
    "preds_tt = count_verbs(res_2_models_tt)\n",
    "preds_ba = count_verbs(res_2_models_ba)\n",
    "\n",
    "print('kk1:', np.mean(preds_kk1['preds']))\n",
    "print('kk2:', np.mean(preds_kk2['preds']))\n",
    "print('tt:', np.mean(preds_tt['preds']))\n",
    "print('ba:', np.mean(preds_ba['preds']))"
   ]
  },
  {
   "cell_type": "code",
   "execution_count": 102,
   "id": "07634e81",
   "metadata": {},
   "outputs": [
    {
     "name": "stdout",
     "output_type": "stream",
     "text": [
      "kk1: 0.6007751937984496\n",
      "kk2: 0.5656108597285068\n",
      "tt: 0.4712041884816754\n",
      "ba: 0.31097560975609756\n"
     ]
    }
   ],
   "source": [
    "print('kk1:', np.mean(preds_kk1['preds'][preds_kk1.sent_len <= preds_kk1.sent_len.mean()]))\n",
    "print('kk2:', np.mean(preds_kk2['preds'][preds_kk2.sent_len <= preds_kk2.sent_len.mean()]))\n",
    "print('tt:', np.mean(preds_tt['preds'][preds_tt.sent_len <= preds_tt.sent_len.mean()]))\n",
    "print('ba:', np.mean(preds_ba['preds'][preds_ba.sent_len <= preds_ba.sent_len.mean()]))"
   ]
  },
  {
   "cell_type": "code",
   "execution_count": 148,
   "id": "7c4c9df3",
   "metadata": {},
   "outputs": [],
   "source": [
    "def count_verbs2(res_2_models_ba): #Подсчет с полным наличием предикатов и аргументов с FrameNet\n",
    "    for i in range(len(res_2_models_ba)):\n",
    "        try:\n",
    "            # По предикатам\n",
    "            verb1 = set()\n",
    "            verb2 = set()\n",
    "\n",
    "            for j in range(len(ast.literal_eval(res_2_models_ba.loc[i, 'FrameNet'])['verbs'])):\n",
    "                verb1.add(ast.literal_eval(res_2_models_ba.loc[i, 'FrameNet'])['verbs'][j]['verb'])\n",
    "            for j in range(len(ast.literal_eval(res_2_models_ba.loc[i, 'BertSRL'])['verbs'])):\n",
    "                verb2.add(ast.literal_eval(res_2_models_ba.loc[i, 'BertSRL'])['verbs'][j]['verb'])\n",
    "\n",
    "#             print('BEFORE',verb1, verb2)\n",
    "\n",
    "            verb1 = set(drop_punkt(verb1).split())\n",
    "            verb2 = set(drop_punkt(verb2).split())\n",
    "#             print('AFTER',verb1, verb2)\n",
    "\n",
    "            if (len(verb1.intersection(verb2)) != 0) & (verb1 != \"\"):\n",
    "                res_2_models_ba.loc[i, 'preds_new'] = 1\n",
    "            else:\n",
    "                res_2_models_ba.loc[i, 'preds_new'] = 0\n",
    "                \n",
    "                \n",
    "            # По аргументам\n",
    "            arguments1 = ast.literal_eval(res_2_models_ba.loc[i, 'FrameNet'])['verbs'][0]['description']\n",
    "            args1 = set()\n",
    "            for key, value in arguments1.items():\n",
    "                if key != 'V':\n",
    "                    args1.add(value)\n",
    "\n",
    "            args2 = set()\n",
    "\n",
    "            for j in range(len(ast.literal_eval(res_2_models_ba.loc[i, 'BertSRL'])['verbs'])):\n",
    "                arguments2 = ast.literal_eval(res_2_models_ba.loc[i, 'BertSRL'])['verbs'][j]['description']\n",
    "                for key, value in arguments2.items():\n",
    "                    if key != 'V':\n",
    "                        args2.add(value)\n",
    "                        \n",
    "#             print('BEFORE',args1, args2)\n",
    "\n",
    "            args1 = set(drop_punkt(args1).split())\n",
    "            args2 = set(drop_punkt(args2).split())\n",
    "#             print('AFTER',args1, args2)\n",
    "\n",
    "            if len(args1.intersection(args2)) != 0:\n",
    "                res_2_models_ba.loc[i, 'args'] = 1\n",
    "            else:\n",
    "                res_2_models_ba.loc[i, 'args'] = 0\n",
    "\n",
    "            \n",
    "            \n",
    "    #     print(i, 'v1: ', verb1, 'v2: ', verb2, res_2_models_ba.loc[i, 'preds_kk_new'])\n",
    "    #     print(res_2_models_ba.loc[i, 'sentence'])\n",
    "    #     print()\n",
    "    \n",
    "\n",
    "        except:\n",
    "            pass\n",
    "#         print(i, 'v1: ', verb1, 'v2: ', verb2, res_2_models_ba.loc[i, 'preds_new'])\n",
    "#         print('args1: ', args1, 'args2: ', args2, res_2_models_ba.loc[i, 'args'])\n",
    "\n",
    "    \n",
    "    return res_2_models_ba"
   ]
  },
  {
   "cell_type": "code",
   "execution_count": 136,
   "id": "95cbf63f",
   "metadata": {},
   "outputs": [],
   "source": [
    "# res_2_models_kk1.loc[0, 'preds_new'] = 0\n",
    "# res_2_models_kk2.loc[0, 'preds_new'] = 0\n",
    "# res_2_models_tt.loc[0, 'preds_new'] = 0\n",
    "# res_2_models_ba.loc[0, 'preds_new'] = 0\n",
    "\n",
    "res_2_models_kk1.loc[0, 'args'] = 0\n",
    "res_2_models_kk2.loc[0, 'args'] = 0\n",
    "res_2_models_tt.loc[0, 'args'] = 0\n",
    "res_2_models_ba.loc[0, 'args'] = 0"
   ]
  },
  {
   "cell_type": "code",
   "execution_count": 166,
   "id": "c725faa2",
   "metadata": {},
   "outputs": [
    {
     "name": "stdout",
     "output_type": "stream",
     "text": [
      "Kazakh language\n",
      "Mean sentence length:  21\n",
      "Predicats: 0.58\n",
      "Arguments: 0.85\n",
      "\n",
      "Tatar language\n",
      "Mean sentence length:  21\n",
      "Predicats: 0.44\n",
      "Arguments: 0.72\n",
      "\n",
      "Bashkir language\n",
      "Mean sentence length:  21\n",
      "Predicats: 0.29\n",
      "Arguments: 0.75\n"
     ]
    }
   ],
   "source": [
    "len_kk = round(preds_kk1_new[preds_kk1_new['args'] == 1].sent_len.mean())\n",
    "len_tt = round(preds_tt_new[preds_tt_new['args'] == 1].sent_len.mean())\n",
    "len_ba = round(preds_ba_new[preds_ba_new['args'] == 1].sent_len.mean())\n",
    "\n",
    "\n",
    "print('Kazakh language')\n",
    "print('Mean sentence length: ', len_kk)\n",
    "print('Predicats:', round(np.mean(preds_kk1_new['preds_new'][preds_kk1_new.sent_len <= len_kk]),2))\n",
    "print('Arguments:', round(np.mean(preds_kk1_new['args'][preds_kk1_new.sent_len <= len_kk]),2))\n",
    "print()\n",
    "print('Tatar language')\n",
    "print('Mean sentence length: ', len_tt)\n",
    "print('Predicats:', round(np.mean(preds_tt_new['preds_new'][preds_tt_new.sent_len <= len_tt]),2))\n",
    "print('Arguments:', round(np.mean(preds_tt_new['args'][preds_tt_new.sent_len <= len_tt]),2))\n",
    "print()\n",
    "print('Bashkir language')\n",
    "print('Mean sentence length: ', len_ba)\n",
    "print('Predicats:', round(np.mean(preds_ba_new['preds_new'][preds_ba_new.sent_len <= len_ba]),2))\n",
    "print('Arguments:', round(np.mean(preds_ba_new['args'][preds_ba_new.sent_len <= len_ba]),2))"
   ]
  },
  {
   "cell_type": "code",
   "execution_count": 168,
   "id": "28ecb07c",
   "metadata": {},
   "outputs": [
    {
     "name": "stdout",
     "output_type": "stream",
     "text": [
      "Kazakh language\n",
      "Predicats: 0.52\n",
      "Arguments: 0.89\n",
      "\n",
      "Tatar language\n",
      "Predicats: 0.38\n",
      "Arguments: 0.76\n",
      "\n",
      "Bashkir language\n",
      "Predicats: 0.24\n",
      "Arguments: 0.76\n"
     ]
    }
   ],
   "source": [
    "len_kk = round(preds_kk1_new[preds_kk1_new['args'] == 1].sent_len.mean())\n",
    "len_tt = round(preds_tt_new[preds_tt_new['args'] == 1].sent_len.mean())\n",
    "len_ba = round(preds_ba_new[preds_ba_new['args'] == 1].sent_len.mean())\n",
    "\n",
    "\n",
    "print('Kazakh language')\n",
    "print('Predicats:', round(np.mean(preds_kk1_new['preds_new']),2))\n",
    "print('Arguments:', round(np.mean(preds_kk1_new['args']),2))\n",
    "print()\n",
    "print('Tatar language')\n",
    "print('Predicats:', round(np.mean(preds_tt_new['preds_new']),2))\n",
    "print('Arguments:', round(np.mean(preds_tt_new['args']),2))\n",
    "print()\n",
    "print('Bashkir language')\n",
    "print('Predicats:', round(np.mean(preds_ba_new['preds_new']),2))\n",
    "print('Arguments:', round(np.mean(preds_ba_new['args']),2))"
   ]
  },
  {
   "cell_type": "code",
   "execution_count": 220,
   "id": "e761bc40",
   "metadata": {},
   "outputs": [
    {
     "data": {
      "text/plain": [
       "Text(0.5, 1.0, 'Совпадения разметки предикатов относительно длины предложения')"
      ]
     },
     "execution_count": 220,
     "metadata": {},
     "output_type": "execute_result"
    },
    {
     "data": {
      "image/png": "[encoded data removed]",
      "text/plain": [
       "<Figure size 1000x600 with 1 Axes>"
      ]
     },
     "metadata": {},
     "output_type": "display_data"
    }
   ],
   "source": [
    "import matplotlib.pyplot as plt\n",
    "\n",
    "fig, ax = plt.subplots(figsize = (10, 6))\n",
    "\n",
    "ax.hist(preds_kk1_new[preds_kk1_new.preds_new == 1].sent_len, label='Kazakh', bins=20, color='limegreen')\n",
    "ax.hist(preds_ba_new[preds_ba_new.preds_new == 1].sent_len, label='Bashkir', bins=20, color='cornflowerblue')\n",
    "ax.hist(preds_tt_new[preds_tt_new.preds_new == 1].sent_len, label='Tatar', bins=20, color='hotpink')\n",
    "\n",
    "ax.legend()\n",
    "ax.set_xlabel('Длина предложения')\n",
    "ax.set_ylabel('Частота совпадений')\n",
    "ax.set_title('Совпадения разметки предикатов относительно длины предложения')"
   ]
  },
  {
   "cell_type": "code",
   "execution_count": 219,
   "id": "d79f223e",
   "metadata": {},
   "outputs": [
    {
     "data": {
      "text/plain": [
       "Text(0.5, 1.0, 'Совпадения разметки аргументов относительно длины предложения')"
      ]
     },
     "execution_count": 219,
     "metadata": {},
     "output_type": "execute_result"
    },
    {
     "data": {
      "image/png": "[encoded data removed]",
      "text/plain": [
       "<Figure size 1000x600 with 1 Axes>"
      ]
     },
     "metadata": {},
     "output_type": "display_data"
    }
   ],
   "source": [
    "import matplotlib.pyplot as plt\n",
    "import seaborn as sns\n",
    "\n",
    "fig, ax = plt.subplots(figsize = (10, 6))\n",
    "ax.hist(preds_ba_new[preds_ba_new.args == 1].sent_len, label='Bashkir', bins=30, color='cornflowerblue')\n",
    "ax.hist(preds_kk1_new[preds_kk1_new.args == 1].sent_len, label='Kazakh', bins=30, color='limegreen')\n",
    "# preds_kk2_new[preds_kk2_new.preds_new == 1].sent_len.hist()\n",
    "ax.hist(preds_tt_new[preds_tt_new.args == 1].sent_len, label='Tatar', bins=30, color='hotpink')\n",
    "\n",
    "\n",
    "ax.legend()\n",
    "ax.set_xlabel('Длина предложения')\n",
    "ax.set_ylabel('Частота совпадений')\n",
    "ax.set_title('Совпадения разметки аргументов относительно длины предложения')"
   ]
  },
  {
   "cell_type": "code",
   "execution_count": null,
   "id": "a3c4b279",
   "metadata": {},
   "outputs": [],
   "source": []
  }
 ],
 "metadata": {
  "kernelspec": {
   "display_name": "Python 3 (ipykernel)",
   "language": "python",
   "name": "python3"
  },
  "language_info": {
   "codemirror_mode": {
    "name": "ipython",
    "version": 3
   },
   "file_extension": ".py",
   "mimetype": "text/x-python",
   "name": "python",
   "nbconvert_exporter": "python",
   "pygments_lexer": "ipython3",
   "version": "3.8.13"
  }
 },
 "nbformat": 4,
 "nbformat_minor": 5
}
